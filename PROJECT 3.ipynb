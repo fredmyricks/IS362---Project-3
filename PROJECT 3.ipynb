{
 "cells": [
  {
   "cell_type": "markdown",
   "source": [
    "CREATE DATABASE PROJECT;\n",
    "\n",
    "USE PROJECT;\n",
    "\n",
    "CREATE TABLE Customers (\n",
    "    CustomerID INT PRIMARY KEY AUTO_INCREMENT,\n",
    "    FirstName VARCHAR(50),\n",
    "    LastName VARCHAR(50),\n",
    "    Email VARCHAR(100)\n",
    ");\n",
    "\n",
    "INSERT INTO Customers (FirstName, LastName, Email) VALUES\n",
    "('John', 'Osei', 'john.osei@project.com'),\n",
    "('Jackie', 'Smith', 'jackie.smith@project.com'),\n",
    "('Akua', 'Bido', 'akua.bido@project.com'),\n",
    "('Sark', 'Daavi', 'Sark.daavi@project.com');\n",
    "\n",
    "CREATE TABLE Orders (\n",
    "    OrderID INT PRIMARY KEY AUTO_INCREMENT,\n",
    "    CustomerID INT,\n",
    "    OrderDate DATE,\n",
    "    TotalAmount DECIMAL(10, 2),\n",
    "    FOREIGN KEY (CustomerID) REFERENCES Customers(CustomerID)\n",
    ");\n",
    "\n",
    "\n",
    "\tINSERT INTO Orders (CustomerID, OrderDate, TotalAmount) VALUES\n",
    "(1, '2024-03-01', 100.50),\n",
    "(1, '2024-03-05', 75.20),\n",
    "(2, '2024-03-02', 150.75),\n",
    "(3, '2024-03-03', 200.00),\n",
    "(4, '2024-03-07', 50.00);"
   ],
   "metadata": {
    "collapsed": false
   },
   "id": "182b6b0dc31b63f6"
  },
  {
   "cell_type": "markdown",
   "source": [
    "import pandas as pd\n",
    "import mysql.connector\n",
    "\n",
    "# Connect to MySQL database\n",
    "try:\n",
    "    connection = mysql.connector.connect(\n",
    "        host='localhost',\n",
    "        user='root',\n",
    "        password='cUny$p$_7',\n",
    "        database='PROJECT',\n",
    "        port=3306\n",
    "    )\n",
    "    print(\"Connected to MySQL database!\")\n",
    "    \n",
    "    # Write SQL query\n",
    "    query = '''\n",
    "        SELECT c.LastName, c.FirstName, t.Name AS TrackName, a.Title AS AlbumTitle\n",
    "        FROM Customer AS c\n",
    "        INNER JOIN Invoice AS i ON c.CustomerId = i.CustomerId\n",
    "        INNER JOIN InvoiceLine AS il ON i.InvoiceId = il.InvoiceId\n",
    "        INNER JOIN Track AS t ON il.TrackId = t.TrackId\n",
    "        INNER JOIN Album AS a ON t.AlbumId = a.AlbumId\n",
    "        ORDER BY c.LastName, c.FirstName\n",
    "    '''\n",
    "\n",
    "    # Execute the query and fetch results into a pandas DataFrame\n",
    "    df = pd.read_sql(query, connection)\n",
    "\n",
    "    # Display the first five rows of the DataFrame\n",
    "    print(df.head())\n",
    "    \n",
    "    # Close connection\n",
    "    connection.close()\n",
    "except mysql.connector.Error as error:\n",
    "    print(\"Error connecting to MySQL database:\", error)\n"
   ],
   "metadata": {
    "collapsed": false
   },
   "id": "37c5a9915b63c83b"
  }
 ],
 "metadata": {
  "kernelspec": {
   "display_name": "Python 3",
   "language": "python",
   "name": "python3"
  },
  "language_info": {
   "codemirror_mode": {
    "name": "ipython",
    "version": 2
   },
   "file_extension": ".py",
   "mimetype": "text/x-python",
   "name": "python",
   "nbconvert_exporter": "python",
   "pygments_lexer": "ipython2",
   "version": "2.7.6"
  }
 },
 "nbformat": 4,
 "nbformat_minor": 5
}
